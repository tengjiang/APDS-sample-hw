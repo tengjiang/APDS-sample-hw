{
 "cells": [
  {
   "cell_type": "markdown",
   "metadata": {},
   "source": [
    "## Homework5-0314\n",
    "   **截止日期：**<font color=ff0000>**3.17(周四)晚** </font>\n",
    "   <br><br>**注：**本次作业中完成对应题目的选做题可以不用完成原题"
   ]
  },
  {
   "cell_type": "markdown",
   "metadata": {},
   "source": [
    "### 1 正则表达式(2分)：\n",
    "具体格式要求如下：\n",
    "<br>账号：由英文字母组成，不限大小写。\n",
    "<br>密码：由英文字母与数字组成且以英文字母开头，最少八位。\n",
    "<br>电话：11位数字，且以1开头。\n",
    "<br>生日：年-月-日(YYYY-MM-DD)。"
   ]
  },
  {
   "cell_type": "code",
   "execution_count": null,
   "metadata": {},
   "outputs": [],
   "source": [
    "import re\n",
    "account=\"\"\n",
    "password=\"\"\n",
    "telephone=\"\"\n",
    "birthday=\"\"\n",
    "#TODO\n",
    "\n",
    "assert re.match(account,\"PyThoN\")\n",
    "assert re.match(password,\"Python2022\")\n",
    "assert re.match(telephone,\"12345678910\")\n",
    "assert re.match(birthday,\"2022-03-14\")"
   ]
  },
  {
   "cell_type": "markdown",
   "metadata": {},
   "source": [
    "### 1.5(选做)邮箱的正则表达式匹配（2+0.5分）\n",
    "邮箱中间须有@，@之前由英文字母、数字、下划线(_)、短横(-)组成，之后由英文字母、数字、下划线(_)、短横(-)、英文句号(.)组成，且必须有至少一个英文句号(.)。（0.5分）"
   ]
  },
  {
   "cell_type": "code",
   "execution_count": null,
   "metadata": {},
   "outputs": [],
   "source": [
    "assert re.match(email,\"2-102@pku.edu.cn\")"
   ]
  },
  {
   "cell_type": "markdown",
   "metadata": {},
   "source": [
    "### 2 yield初步（2分)：\n",
    "使用yield实现有以下隐含功能的迭代器：默认情况返回给定字符串中的下一个单词；如果send一个字符串，则将其改为全小写并返回。"
   ]
  },
  {
   "cell_type": "code",
   "execution_count": null,
   "metadata": {},
   "outputs": [],
   "source": [
    "s=\"Guido van Rossum began working on Python in the late 1980s as a successor to the ABC programming language and first released it in 1991 as Python 0.9.0.\"\n",
    "#TODO\n"
   ]
  },
  {
   "cell_type": "markdown",
   "metadata": {},
   "source": [
    "### 3 async/await初步（2分）\n",
    "采用异步非并发与并发的方式完成代码，并比较完成时间。"
   ]
  },
  {
   "cell_type": "markdown",
   "metadata": {},
   "source": [
    "### 3.5(选做) async/await初步(2+0.5分)\n",
    "(选做)(+0.5)如果worker_1只能完成耗时为1或3的任务，worker_2只能完成耗时为5的任务，请完成以下功能：worker发现自己无法完成当前任务，就把该任务交给另一个worker完成（只需修改task_list即可），代码可随意修改。"
   ]
  },
  {
   "cell_type": "code",
   "execution_count": null,
   "metadata": {},
   "outputs": [],
   "source": [
    "import asyncio,time\n",
    "async def working(time):\n",
    "    await asyncio.sleep(time)\n",
    "    \n",
    "async def worker_1():\n",
    "    task_list=[5,1,3]\n",
    "    for task in task_list:\n",
    "        await working(task)\n",
    "    \n",
    "async def worker_2():\n",
    "    task_list=[3,1,5]\n",
    "    for task in task_list:\n",
    "        await working(task)\n",
    "\n",
    "async def main():\n",
    "    print(f\"started at{time.strftime('%X')}\")\n",
    "    #TODO\n",
    "    \n",
    "    print(f\"finished at{time.strftime('%X')}\")\n",
    "\n",
    "await main()"
   ]
  },
  {
   "cell_type": "markdown",
   "metadata": {},
   "source": [
    "### 4 协程实现轮转调度（2分）\n",
    "在课件上的轮转调度框架的基础上，完成题目：\n",
    "<br>worker1与worker2分别有三种不同等级（1,2,3）的任务，task中储存了这几种任务对应的数目（例如worker1有3个等级为1的任务），worker1与worker2一次只可完成一个任务。\n",
    "<br>请实现：Handle可指定一种等级(例如等级2)的任务，worker1与worker2只需完成该等级的所有任务。\n",
    "    \n",
    "### 4.5(选做) 协程实现轮转调度（2+0.5分）：\n",
    "worker1与worker2按照1-2-3的等级依次完成任务，如果当前等级任务数目为0，则输出“Worker1/2 takes a break.”(认为其完成了该等级任务，不影响循环进行)，如果worker1或worker2已完成所有任务，则由剩下的一个worker独自按照1-2-3的顺序完成任务。例如：worker1完成1级任务->worker2完成2级任务->worker1完成3级任务->worker2完成1级任务……（代码可随意修改！）\n"
   ]
  },
  {
   "cell_type": "code",
   "execution_count": null,
   "metadata": {},
   "outputs": [],
   "source": [
    "waiting_list=[]\n",
    "\n",
    "def worker1():\n",
    "    task={1:3,2:1,3:3}\n",
    "    rank=yield\n",
    "    while task[rank]>0:\n",
    "        task[rank]=task[rank]-1\n",
    "        print(f'worker1:{task[rank]} remains.')\n",
    "        yield\n",
    "    print('worker1 finished!')\n",
    "    \n",
    "def worker2():\n",
    "    task={1:2,2:3,3:3}\n",
    "    rank=yield\n",
    "    while task[rank]>0:\n",
    "        task[rank]=task[rank]-1\n",
    "        print(f'worker2:{task[rank]} remains.')\n",
    "        yield\n",
    "    print('worker2 finished!')\n",
    "    \n",
    "    \n",
    "class Handle(object):\n",
    "    \n",
    "    def __init__(self,gen):\n",
    "        self.gen=gen\n",
    "\n",
    "    def call(self)\n",
    "        #TODO\n",
    "        \n",
    "    \n",
    "def RoundRobin(*worker):\n",
    "    waiting_list.extend(Handle(c) for c in worker)\n",
    "    #TODO\n",
    "                \n",
    "    print('All finished!')\n",
    "    \n",
    "w1=worker1()\n",
    "w2=worker2()\n",
    "\n",
    "RoundRobin(w1,w2)"
   ]
  },
  {
   "cell_type": "markdown",
   "metadata": {},
   "source": [
    "### 5 生产者/消费者（2分）\n",
    "采用生产者消费者模型完成给定数据集的检索。这里生产者将检索字符串放入队列中，消费者读取并查找包含字符串的文章，返回给生产者。\n",
    "<br>需查找：包含（1）全国XX委员会（2）中国XX协会（3）中美建交"
   ]
  },
  {
   "cell_type": "code",
   "execution_count": null,
   "metadata": {},
   "outputs": [],
   "source": [
    "news=[]\n",
    "with open('news.txt','r',encoding='utf-8') as f:\n",
    "    news=f.readlines()"
   ]
  },
  {
   "cell_type": "code",
   "execution_count": null,
   "metadata": {},
   "outputs": [],
   "source": [
    "import nest_asyncio\n",
    "import asyncio,time\n",
    "nest_asyncio.apply()\n",
    "\n",
    "async def consumer(q):\n",
    "    print('consumer starts.')\n",
    "    #TODO\n",
    "\n",
    "async def producer(q):\n",
    "    print('producer starts.')\n",
    "    #TODO\n",
    "    \n",
    "q=asyncio.Queue(maxsize=10)\n",
    "t0=time.time()\n",
    "loop=asyncio.get_event_loop()\n",
    "tasks=[producer(q),consumer(q)]\n",
    "loop.run_until_complete(asyncio.wait(tasks))\n",
    "loop.close()\n",
    "print(time.time()-t0,\"s\")"
   ]
  },
  {
   "cell_type": "markdown",
   "metadata": {},
   "source": [
    "### 5.5(选做) 生产者/消费者（2+0.5分）\n",
    "完成本地C/S架构的生产者消费者模型,并完成以上任务。"
   ]
  },
  {
   "cell_type": "code",
   "execution_count": null,
   "metadata": {},
   "outputs": [],
   "source": [
    "#TODO"
   ]
  }
 ],
 "metadata": {
  "kernelspec": {
   "display_name": "Python 3",
   "language": "python",
   "name": "python3"
  },
  "language_info": {
   "codemirror_mode": {
    "name": "ipython",
    "version": 3
   },
   "file_extension": ".py",
   "mimetype": "text/x-python",
   "name": "python",
   "nbconvert_exporter": "python",
   "pygments_lexer": "ipython3",
   "version": "3.10.8 (main, Oct 13 2022, 09:48:40) [Clang 14.0.0 (clang-1400.0.29.102)]"
  },
  "vscode": {
   "interpreter": {
    "hash": "b0fa6594d8f4cbf19f97940f81e996739fb7646882a419484c72d19e05852a7e"
   }
  }
 },
 "nbformat": 4,
 "nbformat_minor": 4
}
